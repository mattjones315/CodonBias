{
 "cells": [
  {
   "cell_type": "code",
   "execution_count": null,
   "metadata": {},
   "outputs": [],
   "source": [
    "import Sim_Codon_Bias\n",
    "import numpy as np\n",
    "import pandas as pd\n",
    "from sklearn.linear_model import LogisticRegression\n",
    "import statsmodels.api as sm\n",
    "import scipy.stats as stat"
   ]
  },
  {
   "cell_type": "code",
   "execution_count": null,
   "metadata": {
    "scrolled": true
   },
   "outputs": [],
   "source": [
    "codons = np.array([\"AAT\", \"AAG\", \"AAC\"])\n",
    "cdist = Sim_Codon_Bias.ContextDistribution(mut_codon=\"AAA\", codons=codons, _type=\"greedy\")\n",
    "cdist.simulateNull(1000)\n",
    "cdist.simulateNonNull(1000)"
   ]
  },
  {
   "cell_type": "markdown",
   "metadata": {},
   "source": [
    "### Use the logistic test under the null"
   ]
  },
  {
   "cell_type": "code",
   "execution_count": null,
   "metadata": {},
   "outputs": [],
   "source": [
    "print(cdist.null_observed)\n",
    "print(cdist.null_expected)\n",
    "resp = np.array([1,1,1, 0, 0, 0])\n",
    "X = np.concatenate((cdist.null_observed / (sum(cdist.null_observed)), cdist.null_expected / (sum(cdist.null_expected))))\n",
    "weights = np.concatenate((cdist.null_observed, cdist.null_expected))\n",
    "\n",
    "# weight each value by the number of observations\n",
    "X = np.multiply(X, weights)\n",
    "\n",
    "# add a bias term\n",
    "X = np.vstack( (np.ones((1, len(X))), X)).T\n",
    "\n",
    "# Now model resp ~ x with logistic regression\n",
    "logit = sm.Logit(resp, X)\n",
    "result = logit.fit()\n",
    "\n",
    "print(result.pvalues)"
   ]
  },
  {
   "cell_type": "markdown",
   "metadata": {},
   "source": [
    "### Use the logistic null to test for differences"
   ]
  },
  {
   "cell_type": "code",
   "execution_count": null,
   "metadata": {},
   "outputs": [],
   "source": [
    "\n",
    "print(cdist.expected_probs)\n",
    "print(cdist.observed_probs)\n",
    "\n",
    "print(cdist.observed)\n",
    "print(cdist.null_expected)\n",
    "\n",
    "resp = np.array([1,1,1, 0, 0, 0])\n",
    "X = np.concatenate((cdist.observed / (sum(cdist.observed)), cdist.null_expected / (sum(cdist.null_expected))))\n",
    "weights = np.concatenate((cdist.observed, cdist.null_expected))\n",
    "\n",
    "# weight each value by the number of observations\n",
    "X = np.multiply(X, weights)\n",
    "\n",
    "\n",
    "# add a bias term\n",
    "X = np.vstack( (np.ones((1, len(X))), X) ).T\n",
    "\n",
    "# Now model resp ~ x with logistic regression\n",
    "\n",
    "logit = sm.Logit(resp, X)\n",
    "result = logit.fit()\n",
    "\n",
    "print(result.pvalues)"
   ]
  },
  {
   "cell_type": "code",
   "execution_count": null,
   "metadata": {
    "collapsed": true
   },
   "outputs": [],
   "source": []
  }
 ],
 "metadata": {
  "kernelspec": {
   "display_name": "Python 3",
   "language": "python",
   "name": "python3"
  },
  "language_info": {
   "codemirror_mode": {
    "name": "ipython",
    "version": 3
   },
   "file_extension": ".py",
   "mimetype": "text/x-python",
   "name": "python",
   "nbconvert_exporter": "python",
   "pygments_lexer": "ipython3",
   "version": "3.6.3"
  }
 },
 "nbformat": 4,
 "nbformat_minor": 2
}
